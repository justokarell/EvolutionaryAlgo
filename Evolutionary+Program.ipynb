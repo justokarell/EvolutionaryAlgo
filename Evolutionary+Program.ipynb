{
 "cells": [
  {
   "cell_type": "code",
   "execution_count": 1,
   "metadata": {},
   "outputs": [],
   "source": [
    "import numpy as np\n",
    "import pandas as pd\n",
    "import seaborn as sns\n",
    "import matplotlib.pyplot as plt\n",
    "import scipy as sp\n",
    "from scipy import stats\n",
    "\n",
    "from mpl_toolkits.mplot3d import Axes3D\n",
    "from scipy.integrate import odeint"
   ]
  },
  {
   "cell_type": "code",
   "execution_count": 2,
   "metadata": {},
   "outputs": [
    {
     "name": "stderr",
     "output_type": "stream",
     "text": [
      "D:\\anaconda\\lib\\site-packages\\deap\\tools\\_hypervolume\\pyhv.py:33: ImportWarning: Falling back to the python version of hypervolume module. Expect this to be very slow.\n",
      "  \"module. Expect this to be very slow.\", ImportWarning)\n"
     ]
    }
   ],
   "source": [
    "import random\n",
    "import deap\n",
    "from deap import base\n",
    "from deap import creator\n",
    "from deap import tools"
   ]
  },
  {
   "cell_type": "code",
   "execution_count": null,
   "metadata": {},
   "outputs": [],
   "source": []
  },
  {
   "cell_type": "code",
   "execution_count": 73,
   "metadata": {},
   "outputs": [],
   "source": [
    "# Number of locations, parts, time steps, and possible quantities respectively\n",
    "m = 3    # number of locations\n",
    "h = 3    # number of parts\n",
    "n = 10    # number of time steps\n",
    "k = 5     # number of quantities\n",
    "\n",
    "# Set of possible Locations (L), Parts (P), Time steps (T), and Quantities (Q)\n",
    "L = list(np.arange(m))\n",
    "P = list(np.arange(h))\n",
    "T = list(np.arange(n))\n",
    "#Q = list(np.arange(k))\n",
    "\n",
    "# Index set of individuals, J\n",
    "#j_max = 100     # max number of individuals we want to start out with\n",
    "#J = np.arange(j_max)\n"
   ]
  },
  {
   "cell_type": "code",
   "execution_count": 74,
   "metadata": {},
   "outputs": [],
   "source": [
    "# Individuals [Matrix]\n",
    "# Creating a random sample of inviduals\n",
    "Q = np.array([np.array([np.random.randint(0,k) for a in T]) for b in L])\n",
    "Q_IJ = np.array([Q for a in J])    # an example population\n"
   ]
  },
  {
   "cell_type": "code",
   "execution_count": 131,
   "metadata": {},
   "outputs": [],
   "source": [
    "def indiv(k):\n",
    "    return np.array([np.array([np.random.randint(0,k) for a in T]) for b in L]).reshape(m*n)\n"
   ]
  },
  {
   "cell_type": "code",
   "execution_count": null,
   "metadata": {},
   "outputs": [],
   "source": []
  },
  {
   "cell_type": "code",
   "execution_count": 132,
   "metadata": {},
   "outputs": [],
   "source": [
    "def evalOneMax(individual):\n",
    "    target = 5\n",
    "    dist = abs(sum(individual)-sum(5*np.ones(len(individual))))/sum(5*np.ones(len(individual)))\n",
    "    return  dist"
   ]
  },
  {
   "cell_type": "code",
   "execution_count": 133,
   "metadata": {},
   "outputs": [],
   "source": [
    "creator.create(\"FitnessMax\", base.Fitness, weights=(-1.0,))\n",
    "creator.create(\"Individual\", list, fitness=creator.FitnessMax)"
   ]
  },
  {
   "cell_type": "code",
   "execution_count": 134,
   "metadata": {},
   "outputs": [],
   "source": [
    "toolbox = base.Toolbox()\n",
    "# Attribute generator \n",
    "toolbox.register(\"attr_bool\", indiv, 14)\n",
    "# Structure initializers\n",
    "toolbox.register(\"individual\", tools.initRepeat, creator.Individual, toolbox.attr_bool, 100)\n",
    "toolbox.register(\"population\", tools.initRepeat, list, toolbox.individual)\n"
   ]
  },
  {
   "cell_type": "code",
   "execution_count": 135,
   "metadata": {},
   "outputs": [],
   "source": [
    "toolbox.register(\"evaluate\", evalOneMax)\n",
    "toolbox.register(\"mate\", tools.cxTwoPoint)\n",
    "toolbox.register(\"mutate\", tools.mutShuffleIndexes, indpb=0.05)\n",
    "toolbox.register(\"select\", tools.selTournament, tournsize=2)"
   ]
  },
  {
   "cell_type": "code",
   "execution_count": 112,
   "metadata": {},
   "outputs": [],
   "source": [
    "\n",
    "\n",
    "def main():\n",
    "    pop = toolbox.population(n=50)\n",
    "    # Evaluate the entire population\n",
    "    fitnesses = list(map(toolbox.evaluate, pop))\n",
    "    for ind, fit in zip(pop, fitnesses):\n",
    "        ind.fitness.values = fit\n",
    "    # CXPB  is the probability with which two individuals\n",
    "    #       are crossed\n",
    "    #\n",
    "    # MUTPB is the probability for mutating an individual\n",
    "    CXPB, MUTPB = 0.4, 0.1\n",
    "    # Extracting all the fitnesses of \n",
    "    fits = [ind.fitness.values[0] for ind in pop]\n",
    "    # Variable keeping track of the number of generations\n",
    "    g = 0\n",
    "    \n",
    "    # Begin the evolution\n",
    "    while max(fits) < 100 and g < 1000:\n",
    "        # A new generation\n",
    "        g = g + 1\n",
    "        print(\"-- Generation %i --\" % g)\n",
    "        # Select the next generation individuals\n",
    "        offspring = toolbox.select(pop, len(pop))\n",
    "        # Clone the selected individuals\n",
    "        offspring = list(map(toolbox.clone, offspring))\n",
    "       # Apply crossover and mutation on the offspring\n",
    "        for child1, child2 in zip(offspring[::2], offspring[1::2]):\n",
    "            if random.random() < CXPB:\n",
    "                toolbox.mate(child1, child2)\n",
    "                del child1.fitness.values\n",
    "                del child2.fitness.values\n",
    "\n",
    "        for mutant in offspring:\n",
    "            if random.random() < MUTPB:\n",
    "                toolbox.mutate(mutant)\n",
    "                del mutant.fitness.values\n",
    "        # Evaluate the individuals with an invalid fitness\n",
    "        invalid_ind = [ind for ind in offspring if not ind.fitness.valid]\n",
    "        fitnesses = map(toolbox.evaluate, invalid_ind)\n",
    "        for ind, fit in zip(invalid_ind, fitnesses):\n",
    "            ind.fitness.values = fit\n",
    "        pop[:] = offspring\n",
    "\n",
    "    # Gather all the fitnesses in one list and print the stats\n",
    "    fits = [ind.fitness.values[0] for ind in pop]\n",
    "\n",
    "    length = len(pop)\n",
    "    mean = sum(fits) / length\n",
    "    sum2 = sum(x*x for x in fits)\n",
    "    std = abs(sum2 / length - mean**2)**0.5\n",
    "\n",
    "    plt.figure(figsize = (10,7))\n",
    "    plt.plot(np.arange(len(fits)), fits)\n",
    "    plt.show()\n",
    "    print(\"  Min %s\" % min(fits))\n",
    "    print(\"  Max %s\" % max(fits))\n",
    "    print(\"  Avg %s\" % mean)\n",
    "    print(\"  Std %s\" % std)\n",
    "    return pop"
   ]
  },
  {
   "cell_type": "code",
   "execution_count": 113,
   "metadata": {},
   "outputs": [
    {
     "ename": "ValueError",
     "evalue": "The truth value of an array with more than one element is ambiguous. Use a.any() or a.all()",
     "output_type": "error",
     "traceback": [
      "\u001b[1;31m---------------------------------------------------------------------------\u001b[0m",
      "\u001b[1;31mValueError\u001b[0m                                Traceback (most recent call last)",
      "\u001b[1;32m<ipython-input-113-263240bbee7e>\u001b[0m in \u001b[0;36m<module>\u001b[1;34m\u001b[0m\n\u001b[1;32m----> 1\u001b[1;33m \u001b[0mmain\u001b[0m\u001b[1;33m(\u001b[0m\u001b[1;33m)\u001b[0m\u001b[1;33m\u001b[0m\u001b[1;33m\u001b[0m\u001b[0m\n\u001b[0m",
      "\u001b[1;32m<ipython-input-112-b02641b2303b>\u001b[0m in \u001b[0;36mmain\u001b[1;34m()\u001b[0m\n\u001b[0;32m     18\u001b[0m \u001b[1;33m\u001b[0m\u001b[0m\n\u001b[0;32m     19\u001b[0m     \u001b[1;31m# Begin the evolution\u001b[0m\u001b[1;33m\u001b[0m\u001b[1;33m\u001b[0m\u001b[1;33m\u001b[0m\u001b[0m\n\u001b[1;32m---> 20\u001b[1;33m     \u001b[1;32mwhile\u001b[0m \u001b[0mmax\u001b[0m\u001b[1;33m(\u001b[0m\u001b[0mfits\u001b[0m\u001b[1;33m)\u001b[0m \u001b[1;33m<\u001b[0m \u001b[1;36m100\u001b[0m \u001b[1;32mand\u001b[0m \u001b[0mg\u001b[0m \u001b[1;33m<\u001b[0m \u001b[1;36m1000\u001b[0m\u001b[1;33m:\u001b[0m\u001b[1;33m\u001b[0m\u001b[1;33m\u001b[0m\u001b[0m\n\u001b[0m\u001b[0;32m     21\u001b[0m         \u001b[1;31m# A new generation\u001b[0m\u001b[1;33m\u001b[0m\u001b[1;33m\u001b[0m\u001b[1;33m\u001b[0m\u001b[0m\n\u001b[0;32m     22\u001b[0m         \u001b[0mg\u001b[0m \u001b[1;33m=\u001b[0m \u001b[0mg\u001b[0m \u001b[1;33m+\u001b[0m \u001b[1;36m1\u001b[0m\u001b[1;33m\u001b[0m\u001b[1;33m\u001b[0m\u001b[0m\n",
      "\u001b[1;31mValueError\u001b[0m: The truth value of an array with more than one element is ambiguous. Use a.any() or a.all()"
     ]
    }
   ],
   "source": [
    "main()"
   ]
  },
  {
   "cell_type": "code",
   "execution_count": null,
   "metadata": {},
   "outputs": [],
   "source": []
  },
  {
   "cell_type": "code",
   "execution_count": null,
   "metadata": {},
   "outputs": [],
   "source": []
  },
  {
   "cell_type": "code",
   "execution_count": null,
   "metadata": {},
   "outputs": [],
   "source": []
  },
  {
   "cell_type": "code",
   "execution_count": 107,
   "metadata": {},
   "outputs": [
    {
     "data": {
      "image/png": "[encoded data removed]",
      "text/plain": [
       "<Figure size 720x504 with 1 Axes>"
      ]
     },
     "metadata": {
      "needs_background": "light"
     },
     "output_type": "display_data"
    },
    {
     "name": "stdout",
     "output_type": "stream",
     "text": [
      "  Min 0.0\n",
      "  Max 0.078\n",
      "  Avg 0.015400000000000002\n",
      "  Std 0.01877977635649583\n"
     ]
    }
   ],
   "source": [
    "pop = toolbox.population(n=50)\n",
    "# Evaluate the entire population\n",
    "fitnesses = list(map(toolbox.evaluate, pop))\n",
    "for ind, fit in zip(pop, fitnesses):\n",
    "    ind.fitness.values = fit\n",
    "# CXPB  is the probability with which two individuals\n",
    "#       are crossed\n",
    "#\n",
    "# MUTPB is the probability for mutating an individual\n",
    "CXPB, MUTPB = 0.4, 0.1\n",
    "# Extracting all the fitnesses of \n",
    "fits = [ind.fitness.values[0] for ind in pop]\n",
    "# Variable keeping track of the number of generations\n",
    "g = 0\n",
    "\n",
    "# Begin the evolution\n",
    "while max(fits) < 100 and g < 500:\n",
    "    # A new generation\n",
    "    g = g + 1\n",
    "    #print(\"-- Generation %i --\" % g)\n",
    "    # Select the next generation individuals\n",
    "    offspring = toolbox.select(pop, len(pop))\n",
    "    # Clone the selected individuals\n",
    "    offspring = list(map(toolbox.clone, offspring))\n",
    "   # Apply crossover and mutation on the offspring\n",
    "    for child1, child2 in zip(offspring[::2], offspring[1::2]):\n",
    "        if random.random() < CXPB:\n",
    "            toolbox.mate(child1, child2)\n",
    "            del child1.fitness.values\n",
    "            del child2.fitness.values\n",
    "\n",
    "    for mutant in offspring:\n",
    "        if random.random() < MUTPB:\n",
    "            toolbox.mutate(mutant)\n",
    "            del mutant.fitness.values\n",
    "    # Evaluate the individuals with an invalid fitness\n",
    "    invalid_ind = [ind for ind in offspring if not ind.fitness.valid]\n",
    "    fitnesses = map(toolbox.evaluate, invalid_ind)\n",
    "    for ind, fit in zip(invalid_ind, fitnesses):\n",
    "        ind.fitness.values = fit\n",
    "    pop[:] = offspring\n",
    "\n",
    "# Gather all the fitnesses in one list and print the stats\n",
    "fits = [ind.fitness.values[0] for ind in pop]\n",
    "\n",
    "length = len(pop)\n",
    "mean = sum(fits) / length\n",
    "sum2 = sum(x*x for x in fits)\n",
    "std = abs(sum2 / length - mean**2)**0.5\n",
    "\n",
    "plt.figure(figsize = (10,7))\n",
    "plt.plot(np.arange(len(fits)), fits)\n",
    "plt.show()\n",
    "print(\"  Min %s\" % min(fits))\n",
    "print(\"  Max %s\" % max(fits))\n",
    "print(\"  Avg %s\" % mean)\n",
    "print(\"  Std %s\" % std)\n"
   ]
  },
  {
   "cell_type": "code",
   "execution_count": 61,
   "metadata": {
    "collapsed": true
   },
   "outputs": [
    {
     "data": {
      "text/plain": [
       "[array([0, 0, 1, 2, 9, 4, 1, 6, 5, 2, 5, 7, 7, 9, 1, 1, 0, 1, 9, 2, 2, 4,\n",
       "        9, 9, 8, 8, 6, 3, 3, 2]),\n",
       " array([0, 3, 5, 4, 2, 0, 8, 8, 5, 0, 5, 8, 3, 7, 9, 2, 1, 4, 3, 2, 7, 3,\n",
       "        1, 4, 5, 0, 7, 8, 5, 9]),\n",
       " array([0, 7, 7, 2, 6, 4, 5, 0, 9, 4, 6, 8, 9, 3, 2, 3, 5, 0, 5, 9, 5, 9,\n",
       "        3, 6, 0, 2, 2, 0, 6, 1]),\n",
       " array([0, 7, 7, 2, 6, 4, 5, 0, 9, 4, 6, 8, 9, 3, 2, 3, 5, 0, 5, 9, 5, 9,\n",
       "        3, 6, 0, 2, 2, 0, 6, 1]),\n",
       " array([0, 7, 7, 2, 6, 4, 5, 0, 9, 4, 6, 8, 9, 3, 2, 3, 5, 0, 5, 9, 5, 9,\n",
       "        3, 6, 0, 2, 2, 0, 6, 1]),\n",
       " array([0, 0, 1, 2, 9, 4, 1, 6, 5, 2, 5, 7, 7, 9, 1, 1, 0, 1, 9, 2, 2, 4,\n",
       "        9, 9, 8, 8, 6, 3, 3, 2]),\n",
       " array([0, 7, 3, 0, 0, 1, 2, 4, 2, 3, 2, 5, 9, 3, 0, 0, 1, 7, 5, 7, 2, 5,\n",
       "        8, 6, 0, 8, 4, 8, 3, 6]),\n",
       " array([0, 6, 3, 8, 9, 1, 4, 1, 1, 4, 8, 0, 7, 6, 1, 2, 5, 5, 1, 8, 5, 6,\n",
       "        0, 1, 1, 4, 0, 9, 3, 6]),\n",
       " array([0, 9, 0, 9, 4, 1, 6, 6, 9, 1, 1, 2, 6, 4, 3, 0, 3, 1, 7, 3, 3, 2,\n",
       "        7, 0, 4, 9, 2, 8, 9, 8]),\n",
       " array([0, 7, 3, 0, 0, 1, 2, 4, 2, 3, 2, 5, 9, 3, 0, 0, 1, 7, 5, 7, 2, 5,\n",
       "        8, 6, 0, 8, 4, 8, 3, 6]),\n",
       " array([0, 0, 1, 6, 9, 5, 1, 4, 2, 3, 1, 7, 5, 2, 4, 7, 8, 2, 7, 8, 8, 1,\n",
       "        5, 0, 5, 9, 1, 8, 1, 1]),\n",
       " array([0, 1, 3, 6, 1, 2, 2, 9, 6, 7, 4, 0, 9, 0, 7, 9, 7, 6, 9, 1, 6, 5,\n",
       "        9, 3, 2, 0, 7, 9, 5, 9]),\n",
       " array([0, 7, 3, 0, 0, 1, 2, 4, 2, 3, 2, 5, 9, 3, 0, 0, 1, 7, 5, 7, 2, 5,\n",
       "        8, 6, 0, 8, 4, 8, 3, 6]),\n",
       " array([0, 1, 3, 6, 1, 2, 2, 9, 6, 7, 4, 0, 9, 0, 7, 9, 7, 6, 9, 1, 6, 5,\n",
       "        9, 3, 2, 0, 7, 9, 5, 9]),\n",
       " array([0, 7, 7, 2, 6, 4, 5, 0, 9, 4, 6, 8, 9, 3, 2, 3, 5, 0, 5, 9, 5, 9,\n",
       "        3, 6, 0, 2, 2, 0, 6, 1]),\n",
       " array([0, 7, 3, 0, 0, 1, 2, 4, 2, 3, 2, 5, 9, 3, 0, 0, 1, 7, 5, 7, 2, 5,\n",
       "        8, 6, 0, 8, 4, 8, 3, 6]),\n",
       " array([0, 5, 2, 2, 7, 9, 7, 8, 4, 0, 9, 3, 2, 2, 9, 1, 8, 6, 8, 8, 6, 6,\n",
       "        1, 8, 1, 0, 6, 4, 5, 7]),\n",
       " array([0, 7, 3, 0, 0, 1, 2, 4, 2, 3, 2, 5, 9, 3, 0, 0, 1, 7, 5, 7, 2, 5,\n",
       "        8, 6, 0, 8, 4, 8, 3, 6]),\n",
       " array([0, 0, 1, 2, 9, 4, 1, 6, 5, 2, 5, 7, 7, 9, 1, 1, 0, 1, 9, 2, 2, 4,\n",
       "        9, 9, 8, 8, 6, 3, 3, 2]),\n",
       " array([0, 1, 2, 9, 5, 5, 2, 4, 7, 2, 0, 1, 6, 2, 7, 0, 2, 3, 3, 2, 9, 7,\n",
       "        1, 9, 2, 3, 1, 5, 2, 7]),\n",
       " array([0, 7, 3, 0, 0, 1, 2, 4, 2, 3, 2, 5, 9, 3, 0, 0, 1, 7, 5, 7, 2, 5,\n",
       "        8, 6, 0, 8, 4, 8, 3, 6]),\n",
       " array([0, 7, 7, 2, 6, 4, 5, 0, 9, 4, 6, 8, 9, 3, 2, 3, 5, 0, 5, 9, 5, 9,\n",
       "        3, 6, 0, 2, 2, 0, 6, 1]),\n",
       " array([0, 3, 5, 4, 2, 0, 8, 8, 5, 0, 5, 8, 3, 7, 9, 2, 1, 4, 3, 2, 7, 3,\n",
       "        1, 4, 5, 0, 7, 8, 5, 9]),\n",
       " array([0, 0, 1, 2, 9, 4, 1, 6, 5, 2, 5, 7, 7, 9, 1, 1, 0, 1, 9, 2, 2, 4,\n",
       "        9, 9, 8, 8, 6, 3, 3, 2]),\n",
       " array([0, 0, 1, 2, 9, 4, 1, 6, 5, 2, 5, 7, 7, 9, 1, 1, 0, 1, 9, 2, 2, 4,\n",
       "        9, 9, 8, 8, 6, 3, 3, 2]),\n",
       " array([0, 0, 1, 2, 9, 4, 1, 6, 5, 2, 5, 7, 7, 9, 1, 1, 0, 1, 9, 2, 2, 4,\n",
       "        9, 9, 8, 8, 6, 3, 3, 2]),\n",
       " array([0, 7, 3, 0, 0, 1, 2, 4, 2, 3, 2, 5, 9, 3, 0, 0, 1, 7, 5, 7, 2, 5,\n",
       "        8, 6, 0, 8, 4, 8, 3, 6]),\n",
       " array([0, 1, 3, 6, 1, 2, 2, 9, 6, 7, 4, 0, 9, 0, 7, 9, 7, 6, 9, 1, 6, 5,\n",
       "        9, 3, 2, 0, 7, 9, 5, 9]),\n",
       " array([0, 0, 1, 2, 9, 4, 1, 6, 5, 2, 5, 7, 7, 9, 1, 1, 0, 1, 9, 2, 2, 4,\n",
       "        9, 9, 8, 8, 6, 3, 3, 2]),\n",
       " array([0, 1, 3, 6, 1, 2, 2, 9, 6, 7, 4, 0, 9, 0, 7, 9, 7, 6, 9, 1, 6, 5,\n",
       "        9, 3, 2, 0, 7, 9, 5, 9]),\n",
       " array([0, 7, 3, 0, 0, 1, 2, 4, 2, 3, 2, 5, 9, 3, 0, 0, 1, 7, 5, 7, 2, 5,\n",
       "        8, 6, 0, 8, 4, 8, 3, 6]),\n",
       " array([0, 9, 0, 9, 4, 1, 6, 6, 9, 1, 1, 2, 6, 4, 3, 0, 3, 1, 7, 3, 3, 2,\n",
       "        7, 0, 4, 9, 2, 8, 9, 8]),\n",
       " array([0, 2, 4, 3, 3, 2, 8, 7, 0, 9, 6, 6, 2, 3, 6, 8, 5, 9, 6, 2, 9, 7,\n",
       "        4, 4, 4, 5, 9, 8, 4, 0]),\n",
       " array([0, 1, 3, 6, 1, 2, 2, 9, 6, 7, 4, 0, 9, 0, 7, 9, 7, 6, 9, 1, 6, 5,\n",
       "        9, 3, 2, 0, 7, 9, 5, 9]),\n",
       " array([0, 7, 3, 0, 0, 1, 2, 4, 2, 3, 2, 5, 9, 3, 0, 0, 1, 7, 5, 7, 2, 5,\n",
       "        8, 6, 0, 8, 4, 8, 3, 6]),\n",
       " array([0, 3, 5, 4, 2, 0, 8, 8, 5, 0, 5, 8, 3, 7, 9, 2, 1, 4, 3, 2, 7, 3,\n",
       "        1, 4, 5, 0, 7, 8, 5, 9]),\n",
       " array([0, 0, 1, 2, 9, 4, 1, 6, 5, 2, 5, 7, 7, 9, 1, 1, 0, 1, 9, 2, 2, 4,\n",
       "        9, 9, 8, 8, 6, 3, 3, 2]),\n",
       " array([0, 3, 5, 4, 2, 0, 8, 8, 5, 0, 5, 8, 3, 7, 9, 2, 1, 4, 3, 2, 7, 3,\n",
       "        1, 4, 5, 0, 7, 8, 5, 9]),\n",
       " array([0, 3, 5, 4, 2, 0, 8, 8, 5, 0, 5, 8, 3, 7, 9, 2, 1, 4, 3, 2, 7, 3,\n",
       "        1, 4, 5, 0, 7, 8, 5, 9]),\n",
       " array([0, 6, 8, 8, 4, 0, 7, 4, 0, 3, 7, 8, 3, 4, 3, 4, 7, 5, 4, 8, 9, 3,\n",
       "        4, 0, 1, 9, 1, 9, 0, 9]),\n",
       " array([0, 7, 3, 0, 0, 1, 2, 4, 2, 3, 2, 5, 9, 3, 0, 0, 1, 7, 5, 7, 2, 5,\n",
       "        8, 6, 0, 8, 4, 8, 3, 6]),\n",
       " array([0, 3, 5, 4, 2, 0, 8, 8, 5, 0, 5, 8, 3, 7, 9, 2, 1, 4, 3, 2, 7, 3,\n",
       "        1, 4, 5, 0, 7, 8, 5, 9]),\n",
       " array([0, 1, 3, 6, 1, 2, 2, 9, 6, 7, 4, 0, 9, 0, 7, 9, 7, 6, 9, 1, 6, 5,\n",
       "        9, 3, 2, 0, 7, 9, 5, 9]),\n",
       " array([0, 7, 7, 2, 6, 4, 5, 0, 9, 4, 6, 8, 9, 3, 2, 3, 5, 0, 5, 9, 5, 9,\n",
       "        3, 6, 0, 2, 2, 0, 6, 1]),\n",
       " array([0, 0, 1, 2, 9, 4, 1, 6, 5, 2, 5, 7, 7, 9, 1, 1, 0, 1, 9, 2, 2, 4,\n",
       "        9, 9, 8, 8, 6, 3, 3, 2]),\n",
       " array([0, 1, 3, 6, 1, 2, 2, 9, 6, 7, 4, 0, 9, 0, 7, 9, 7, 6, 9, 1, 6, 5,\n",
       "        9, 3, 2, 0, 7, 9, 5, 9]),\n",
       " array([0, 6, 3, 8, 9, 1, 4, 1, 1, 4, 8, 0, 7, 6, 1, 2, 5, 5, 1, 8, 5, 6,\n",
       "        0, 1, 1, 4, 0, 9, 3, 6]),\n",
       " array([0, 0, 1, 2, 9, 4, 1, 6, 5, 2, 5, 7, 7, 9, 1, 1, 0, 1, 9, 2, 2, 4,\n",
       "        9, 9, 8, 8, 6, 3, 3, 2]),\n",
       " array([0, 9, 0, 9, 4, 1, 6, 6, 9, 1, 1, 2, 6, 4, 3, 0, 3, 1, 7, 3, 3, 2,\n",
       "        7, 0, 4, 9, 2, 8, 9, 8]),\n",
       " array([0, 9, 0, 9, 4, 1, 6, 6, 9, 1, 1, 2, 6, 4, 3, 0, 3, 1, 7, 3, 3, 2,\n",
       "        7, 0, 4, 9, 2, 8, 9, 8]),\n",
       " array([0, 7, 3, 0, 0, 1, 2, 4, 2, 3, 2, 5, 9, 3, 0, 0, 1, 7, 5, 7, 2, 5,\n",
       "        8, 6, 0, 8, 4, 8, 3, 6]),\n",
       " array([0, 7, 3, 0, 0, 1, 2, 4, 2, 3, 2, 5, 9, 3, 0, 0, 1, 7, 5, 7, 2, 5,\n",
       "        8, 6, 0, 8, 4, 8, 3, 6]),\n",
       " array([0, 3, 5, 4, 2, 0, 8, 8, 5, 0, 5, 8, 3, 7, 9, 2, 1, 4, 3, 2, 7, 3,\n",
       "        1, 4, 5, 0, 7, 8, 5, 9]),\n",
       " array([0, 7, 3, 0, 0, 1, 2, 4, 2, 3, 2, 5, 9, 3, 0, 0, 1, 7, 5, 7, 2, 5,\n",
       "        8, 6, 0, 8, 4, 8, 3, 6]),\n",
       " array([0, 7, 3, 0, 0, 1, 2, 4, 2, 3, 2, 5, 9, 3, 0, 0, 1, 7, 5, 7, 2, 5,\n",
       "        8, 6, 0, 8, 4, 8, 3, 6]),\n",
       " array([0, 2, 4, 3, 3, 2, 8, 7, 0, 9, 6, 6, 2, 3, 6, 8, 5, 9, 6, 2, 9, 7,\n",
       "        4, 4, 4, 5, 9, 8, 4, 0]),\n",
       " array([0, 0, 1, 2, 9, 4, 1, 6, 5, 2, 5, 7, 7, 9, 1, 1, 0, 1, 9, 2, 2, 4,\n",
       "        9, 9, 8, 8, 6, 3, 3, 2]),\n",
       " array([0, 0, 1, 6, 9, 5, 1, 4, 2, 3, 1, 7, 5, 2, 4, 7, 8, 2, 7, 8, 8, 1,\n",
       "        5, 0, 5, 9, 1, 8, 1, 1]),\n",
       " array([0, 0, 1, 6, 9, 5, 1, 4, 2, 3, 1, 7, 5, 2, 4, 7, 8, 2, 7, 8, 8, 1,\n",
       "        5, 0, 5, 9, 1, 8, 1, 1]),\n",
       " array([0, 2, 4, 3, 3, 2, 8, 7, 0, 9, 6, 6, 2, 3, 6, 8, 5, 9, 6, 2, 9, 7,\n",
       "        4, 4, 4, 5, 9, 8, 4, 0]),\n",
       " array([0, 7, 3, 0, 0, 1, 2, 4, 2, 3, 2, 5, 9, 3, 0, 0, 1, 7, 5, 7, 2, 5,\n",
       "        8, 6, 0, 8, 4, 8, 3, 6]),\n",
       " array([0, 0, 1, 2, 9, 4, 1, 6, 5, 2, 5, 7, 7, 9, 1, 1, 0, 1, 9, 2, 2, 4,\n",
       "        9, 9, 8, 8, 6, 3, 3, 2]),\n",
       " array([0, 6, 9, 8, 4, 3, 5, 9, 3, 1, 5, 5, 9, 2, 2, 7, 7, 5, 0, 1, 5, 9,\n",
       "        7, 8, 2, 0, 0, 4, 1, 0]),\n",
       " array([0, 1, 3, 6, 1, 2, 2, 9, 6, 7, 4, 0, 9, 0, 7, 9, 7, 6, 9, 1, 6, 5,\n",
       "        9, 3, 2, 0, 7, 9, 5, 9]),\n",
       " array([0, 9, 0, 9, 4, 1, 6, 6, 9, 1, 1, 2, 6, 4, 3, 0, 3, 1, 7, 3, 3, 2,\n",
       "        7, 0, 4, 9, 2, 8, 9, 8]),\n",
       " array([0, 0, 1, 6, 9, 5, 1, 4, 2, 3, 1, 7, 5, 2, 4, 7, 8, 2, 7, 8, 8, 1,\n",
       "        5, 0, 5, 9, 1, 8, 1, 1]),\n",
       " array([0, 3, 5, 4, 2, 0, 8, 8, 5, 0, 5, 8, 3, 7, 9, 2, 1, 4, 3, 2, 7, 3,\n",
       "        1, 4, 5, 0, 7, 8, 5, 9]),\n",
       " array([0, 1, 2, 9, 5, 5, 2, 4, 7, 2, 0, 1, 6, 2, 7, 0, 2, 3, 3, 2, 9, 7,\n",
       "        1, 9, 2, 3, 1, 5, 2, 7]),\n",
       " array([0, 7, 7, 2, 6, 4, 5, 0, 9, 4, 6, 8, 9, 3, 2, 3, 5, 0, 5, 9, 5, 9,\n",
       "        3, 6, 0, 2, 2, 0, 6, 1]),\n",
       " array([0, 2, 4, 3, 3, 2, 8, 7, 0, 9, 6, 6, 2, 3, 6, 8, 5, 9, 6, 2, 9, 7,\n",
       "        4, 4, 4, 5, 9, 8, 4, 0]),\n",
       " array([0, 0, 1, 2, 9, 4, 1, 6, 5, 2, 5, 7, 7, 9, 1, 1, 0, 1, 9, 2, 2, 4,\n",
       "        9, 9, 8, 8, 6, 3, 3, 2]),\n",
       " array([0, 9, 0, 9, 4, 1, 6, 6, 9, 1, 1, 2, 6, 4, 3, 0, 3, 1, 7, 3, 3, 2,\n",
       "        7, 0, 4, 9, 2, 8, 9, 8]),\n",
       " array([0, 1, 3, 6, 1, 2, 2, 9, 6, 7, 4, 0, 9, 0, 7, 9, 7, 6, 9, 1, 6, 5,\n",
       "        9, 3, 2, 0, 7, 9, 5, 9]),\n",
       " array([0, 0, 1, 6, 9, 5, 1, 4, 2, 3, 1, 7, 5, 2, 4, 7, 8, 2, 7, 8, 8, 1,\n",
       "        5, 0, 5, 9, 1, 8, 1, 1]),\n",
       " array([0, 0, 1, 2, 9, 4, 1, 6, 5, 2, 5, 7, 7, 9, 1, 1, 0, 1, 9, 2, 2, 4,\n",
       "        9, 9, 8, 8, 6, 3, 3, 2]),\n",
       " array([0, 7, 3, 0, 0, 1, 2, 4, 2, 3, 2, 5, 9, 3, 0, 0, 1, 7, 5, 7, 2, 5,\n",
       "        8, 6, 0, 8, 4, 8, 3, 6]),\n",
       " array([0, 7, 7, 2, 6, 4, 5, 0, 9, 4, 6, 8, 9, 3, 2, 3, 5, 0, 5, 9, 5, 9,\n",
       "        3, 6, 0, 2, 2, 0, 6, 1]),\n",
       " array([0, 3, 5, 4, 2, 0, 8, 8, 5, 0, 5, 8, 3, 7, 9, 2, 1, 4, 3, 2, 7, 3,\n",
       "        1, 4, 5, 0, 7, 8, 5, 9]),\n",
       " array([0, 7, 7, 2, 6, 4, 5, 0, 9, 4, 6, 8, 9, 3, 2, 3, 5, 0, 5, 9, 5, 9,\n",
       "        3, 6, 0, 2, 2, 0, 6, 1]),\n",
       " array([0, 7, 3, 0, 0, 1, 2, 4, 2, 3, 2, 5, 9, 3, 0, 0, 1, 7, 5, 7, 2, 5,\n",
       "        8, 6, 0, 8, 4, 8, 3, 6]),\n",
       " array([0, 9, 0, 9, 4, 1, 6, 6, 9, 1, 1, 2, 6, 4, 3, 0, 3, 1, 7, 3, 3, 2,\n",
       "        7, 0, 4, 9, 2, 8, 9, 8]),\n",
       " array([0, 3, 5, 4, 2, 0, 8, 8, 5, 0, 5, 8, 3, 7, 9, 2, 1, 4, 3, 2, 7, 3,\n",
       "        1, 4, 5, 0, 7, 8, 5, 9]),\n",
       " array([0, 2, 4, 3, 3, 2, 8, 7, 0, 9, 6, 6, 2, 3, 6, 8, 5, 9, 6, 2, 9, 7,\n",
       "        4, 4, 4, 5, 9, 8, 4, 0]),\n",
       " array([0, 3, 5, 4, 2, 0, 8, 8, 5, 0, 5, 8, 3, 7, 9, 2, 1, 4, 3, 2, 7, 3,\n",
       "        1, 4, 5, 0, 7, 8, 5, 9]),\n",
       " array([0, 1, 2, 9, 5, 5, 2, 4, 7, 2, 0, 1, 6, 2, 7, 0, 2, 3, 3, 2, 9, 7,\n",
       "        1, 9, 2, 3, 1, 5, 2, 7]),\n",
       " array([0, 9, 0, 9, 4, 1, 6, 6, 9, 1, 1, 2, 6, 4, 3, 0, 3, 1, 7, 3, 3, 2,\n",
       "        7, 0, 4, 9, 2, 8, 9, 8]),\n",
       " array([0, 9, 0, 9, 4, 1, 6, 6, 9, 1, 1, 2, 6, 4, 3, 0, 3, 1, 7, 3, 3, 2,\n",
       "        7, 0, 4, 9, 2, 8, 9, 8]),\n",
       " array([0, 0, 1, 6, 9, 5, 1, 4, 2, 3, 1, 7, 5, 2, 4, 7, 8, 2, 7, 8, 8, 1,\n",
       "        5, 0, 5, 9, 1, 8, 1, 1]),\n",
       " array([0, 0, 1, 2, 9, 4, 1, 6, 5, 2, 5, 7, 7, 9, 1, 1, 0, 1, 9, 2, 2, 4,\n",
       "        9, 9, 8, 8, 6, 3, 3, 2]),\n",
       " array([0, 3, 5, 4, 2, 0, 8, 8, 5, 0, 5, 8, 3, 7, 9, 2, 1, 4, 3, 2, 7, 3,\n",
       "        1, 4, 5, 0, 7, 8, 5, 9]),\n",
       " array([0, 1, 2, 9, 5, 5, 2, 4, 7, 2, 0, 1, 6, 2, 7, 0, 2, 3, 3, 2, 9, 7,\n",
       "        1, 9, 2, 3, 1, 5, 2, 7]),\n",
       " array([0, 1, 2, 9, 5, 5, 2, 4, 7, 2, 0, 1, 6, 2, 7, 0, 2, 3, 3, 2, 9, 7,\n",
       "        1, 9, 2, 3, 1, 5, 2, 7]),\n",
       " array([0, 7, 3, 0, 0, 1, 2, 4, 2, 3, 2, 5, 9, 3, 0, 0, 1, 7, 5, 7, 2, 5,\n",
       "        8, 6, 0, 8, 4, 8, 3, 6]),\n",
       " array([0, 1, 2, 9, 5, 5, 2, 4, 7, 2, 0, 1, 6, 2, 7, 0, 2, 3, 3, 2, 9, 7,\n",
       "        1, 9, 2, 3, 1, 5, 2, 7]),\n",
       " array([0, 1, 3, 6, 1, 2, 2, 9, 6, 7, 4, 0, 9, 0, 7, 9, 7, 6, 9, 1, 6, 5,\n",
       "        9, 3, 2, 0, 7, 9, 5, 9]),\n",
       " array([0, 0, 1, 6, 9, 5, 1, 4, 2, 3, 1, 7, 5, 2, 4, 7, 8, 2, 7, 8, 8, 1,\n",
       "        5, 0, 5, 9, 1, 8, 1, 1]),\n",
       " array([0, 7, 3, 0, 0, 1, 2, 4, 2, 3, 2, 5, 9, 3, 0, 0, 1, 7, 5, 7, 2, 5,\n",
       "        8, 6, 0, 8, 4, 8, 3, 6]),\n",
       " array([0, 0, 1, 2, 9, 4, 1, 6, 5, 2, 5, 7, 7, 9, 1, 1, 0, 1, 9, 2, 2, 4,\n",
       "        9, 9, 8, 8, 6, 3, 3, 2]),\n",
       " array([0, 2, 4, 3, 3, 2, 8, 7, 0, 9, 6, 6, 2, 3, 6, 8, 5, 9, 6, 2, 9, 7,\n",
       "        4, 4, 4, 5, 9, 8, 4, 0]),\n",
       " array([0, 2, 4, 3, 3, 2, 8, 7, 0, 9, 6, 6, 2, 3, 6, 8, 5, 9, 6, 2, 9, 7,\n",
       "        4, 4, 4, 5, 9, 8, 4, 0])]"
      ]
     },
     "execution_count": 61,
     "metadata": {},
     "output_type": "execute_result"
    }
   ],
   "source": [
    "dist = abs(sum(individual)-sum(5*np.ones(len(individual))))/sum(5*np.ones(len(individual)))\n"
   ]
  },
  {
   "cell_type": "code",
   "execution_count": null,
   "metadata": {},
   "outputs": [],
   "source": []
  },
  {
   "cell_type": "code",
   "execution_count": 128,
   "metadata": {},
   "outputs": [],
   "source": [
    "#def main():\n",
    "from deap import algorithms\n",
    "import array"
   ]
  },
  {
   "cell_type": "code",
   "execution_count": 136,
   "metadata": {},
   "outputs": [],
   "source": [
    "toolbox.register(\"evaluate\", evalOneMax)\n",
    "toolbox.register(\"mate\", tools.cxTwoPoint)\n",
    "toolbox.register(\"mutate\", tools.mutFlipBit, indpb=0.05)\n",
    "toolbox.register(\"select\", tools.selTournament, tournsize=3)"
   ]
  },
  {
   "cell_type": "code",
   "execution_count": 142,
   "metadata": {
    "scrolled": true
   },
   "outputs": [
    {
     "name": "stdout",
     "output_type": "stream",
     "text": [
      "gen\tnevals\tavg     \tstd     \tmin  \tmax  \n",
      "0  \t300   \t0.298413\t0.078064\t0.072\t0.552\n"
     ]
    },
    {
     "ename": "ValueError",
     "evalue": "The truth value of an array with more than one element is ambiguous. Use a.any() or a.all()",
     "output_type": "error",
     "traceback": [
      "\u001b[1;31m---------------------------------------------------------------------------\u001b[0m",
      "\u001b[1;31mValueError\u001b[0m                                Traceback (most recent call last)",
      "\u001b[1;32m<ipython-input-142-1cb7fe8e9c2f>\u001b[0m in \u001b[0;36m<module>\u001b[1;34m\u001b[0m\n\u001b[0;32m      9\u001b[0m \u001b[0mstats\u001b[0m\u001b[1;33m.\u001b[0m\u001b[0mregister\u001b[0m\u001b[1;33m(\u001b[0m\u001b[1;34m\"max\"\u001b[0m\u001b[1;33m,\u001b[0m \u001b[0mnp\u001b[0m\u001b[1;33m.\u001b[0m\u001b[0mmax\u001b[0m\u001b[1;33m)\u001b[0m\u001b[1;33m\u001b[0m\u001b[1;33m\u001b[0m\u001b[0m\n\u001b[0;32m     10\u001b[0m \u001b[1;33m\u001b[0m\u001b[0m\n\u001b[1;32m---> 11\u001b[1;33m \u001b[0mpop\u001b[0m\u001b[1;33m,\u001b[0m \u001b[0mlog\u001b[0m \u001b[1;33m=\u001b[0m \u001b[0malgorithms\u001b[0m\u001b[1;33m.\u001b[0m\u001b[0meaSimple\u001b[0m\u001b[1;33m(\u001b[0m\u001b[0mpop\u001b[0m\u001b[1;33m,\u001b[0m \u001b[0mtoolbox\u001b[0m\u001b[1;33m,\u001b[0m \u001b[0mcxpb\u001b[0m\u001b[1;33m=\u001b[0m\u001b[1;36m0.5\u001b[0m\u001b[1;33m,\u001b[0m \u001b[0mmutpb\u001b[0m\u001b[1;33m=\u001b[0m\u001b[1;36m0.2\u001b[0m\u001b[1;33m,\u001b[0m \u001b[0mngen\u001b[0m\u001b[1;33m=\u001b[0m\u001b[1;36m40\u001b[0m\u001b[1;33m,\u001b[0m \u001b[0mstats\u001b[0m\u001b[1;33m=\u001b[0m\u001b[0mstats\u001b[0m\u001b[1;33m,\u001b[0m \u001b[0mverbose\u001b[0m\u001b[1;33m=\u001b[0m\u001b[1;32mTrue\u001b[0m\u001b[1;33m)\u001b[0m\u001b[1;33m\u001b[0m\u001b[1;33m\u001b[0m\u001b[0m\n\u001b[0m\u001b[0;32m     12\u001b[0m \u001b[1;31m#pop, log = algorithms.eaSimple(pop, toolbox, cxpb=0.5, mutpb=0.2, ngen=40,\u001b[0m\u001b[1;33m\u001b[0m\u001b[1;33m\u001b[0m\u001b[1;33m\u001b[0m\u001b[0m\n\u001b[0;32m     13\u001b[0m                                \u001b[1;31m#stats=stats, halloffame=hof, verbose=True)\u001b[0m\u001b[1;33m\u001b[0m\u001b[1;33m\u001b[0m\u001b[1;33m\u001b[0m\u001b[0m\n",
      "\u001b[1;32mD:\\anaconda\\lib\\site-packages\\deap\\algorithms.py\u001b[0m in \u001b[0;36meaSimple\u001b[1;34m(population, toolbox, cxpb, mutpb, ngen, stats, halloffame, verbose)\u001b[0m\n\u001b[0;32m    166\u001b[0m \u001b[1;33m\u001b[0m\u001b[0m\n\u001b[0;32m    167\u001b[0m         \u001b[1;31m# Vary the pool of individuals\u001b[0m\u001b[1;33m\u001b[0m\u001b[1;33m\u001b[0m\u001b[1;33m\u001b[0m\u001b[0m\n\u001b[1;32m--> 168\u001b[1;33m         \u001b[0moffspring\u001b[0m \u001b[1;33m=\u001b[0m \u001b[0mvarAnd\u001b[0m\u001b[1;33m(\u001b[0m\u001b[0moffspring\u001b[0m\u001b[1;33m,\u001b[0m \u001b[0mtoolbox\u001b[0m\u001b[1;33m,\u001b[0m \u001b[0mcxpb\u001b[0m\u001b[1;33m,\u001b[0m \u001b[0mmutpb\u001b[0m\u001b[1;33m)\u001b[0m\u001b[1;33m\u001b[0m\u001b[1;33m\u001b[0m\u001b[0m\n\u001b[0m\u001b[0;32m    169\u001b[0m \u001b[1;33m\u001b[0m\u001b[0m\n\u001b[0;32m    170\u001b[0m         \u001b[1;31m# Evaluate the individuals with an invalid fitness\u001b[0m\u001b[1;33m\u001b[0m\u001b[1;33m\u001b[0m\u001b[1;33m\u001b[0m\u001b[0m\n",
      "\u001b[1;32mD:\\anaconda\\lib\\site-packages\\deap\\algorithms.py\u001b[0m in \u001b[0;36mvarAnd\u001b[1;34m(population, toolbox, cxpb, mutpb)\u001b[0m\n\u001b[0;32m     77\u001b[0m     \u001b[1;32mfor\u001b[0m \u001b[0mi\u001b[0m \u001b[1;32min\u001b[0m \u001b[0mrange\u001b[0m\u001b[1;33m(\u001b[0m\u001b[0mlen\u001b[0m\u001b[1;33m(\u001b[0m\u001b[0moffspring\u001b[0m\u001b[1;33m)\u001b[0m\u001b[1;33m)\u001b[0m\u001b[1;33m:\u001b[0m\u001b[1;33m\u001b[0m\u001b[1;33m\u001b[0m\u001b[0m\n\u001b[0;32m     78\u001b[0m         \u001b[1;32mif\u001b[0m \u001b[0mrandom\u001b[0m\u001b[1;33m.\u001b[0m\u001b[0mrandom\u001b[0m\u001b[1;33m(\u001b[0m\u001b[1;33m)\u001b[0m \u001b[1;33m<\u001b[0m \u001b[0mmutpb\u001b[0m\u001b[1;33m:\u001b[0m\u001b[1;33m\u001b[0m\u001b[1;33m\u001b[0m\u001b[0m\n\u001b[1;32m---> 79\u001b[1;33m             \u001b[0moffspring\u001b[0m\u001b[1;33m[\u001b[0m\u001b[0mi\u001b[0m\u001b[1;33m]\u001b[0m\u001b[1;33m,\u001b[0m \u001b[1;33m=\u001b[0m \u001b[0mtoolbox\u001b[0m\u001b[1;33m.\u001b[0m\u001b[0mmutate\u001b[0m\u001b[1;33m(\u001b[0m\u001b[0moffspring\u001b[0m\u001b[1;33m[\u001b[0m\u001b[0mi\u001b[0m\u001b[1;33m]\u001b[0m\u001b[1;33m)\u001b[0m\u001b[1;33m\u001b[0m\u001b[1;33m\u001b[0m\u001b[0m\n\u001b[0m\u001b[0;32m     80\u001b[0m             \u001b[1;32mdel\u001b[0m \u001b[0moffspring\u001b[0m\u001b[1;33m[\u001b[0m\u001b[0mi\u001b[0m\u001b[1;33m]\u001b[0m\u001b[1;33m.\u001b[0m\u001b[0mfitness\u001b[0m\u001b[1;33m.\u001b[0m\u001b[0mvalues\u001b[0m\u001b[1;33m\u001b[0m\u001b[1;33m\u001b[0m\u001b[0m\n\u001b[0;32m     81\u001b[0m \u001b[1;33m\u001b[0m\u001b[0m\n",
      "\u001b[1;32mD:\\anaconda\\lib\\site-packages\\deap\\tools\\mutation.py\u001b[0m in \u001b[0;36mmutFlipBit\u001b[1;34m(individual, indpb)\u001b[0m\n\u001b[0;32m    130\u001b[0m     \u001b[1;32mfor\u001b[0m \u001b[0mi\u001b[0m \u001b[1;32min\u001b[0m \u001b[0mrange\u001b[0m\u001b[1;33m(\u001b[0m\u001b[0mlen\u001b[0m\u001b[1;33m(\u001b[0m\u001b[0mindividual\u001b[0m\u001b[1;33m)\u001b[0m\u001b[1;33m)\u001b[0m\u001b[1;33m:\u001b[0m\u001b[1;33m\u001b[0m\u001b[1;33m\u001b[0m\u001b[0m\n\u001b[0;32m    131\u001b[0m         \u001b[1;32mif\u001b[0m \u001b[0mrandom\u001b[0m\u001b[1;33m.\u001b[0m\u001b[0mrandom\u001b[0m\u001b[1;33m(\u001b[0m\u001b[1;33m)\u001b[0m \u001b[1;33m<\u001b[0m \u001b[0mindpb\u001b[0m\u001b[1;33m:\u001b[0m\u001b[1;33m\u001b[0m\u001b[1;33m\u001b[0m\u001b[0m\n\u001b[1;32m--> 132\u001b[1;33m             \u001b[0mindividual\u001b[0m\u001b[1;33m[\u001b[0m\u001b[0mi\u001b[0m\u001b[1;33m]\u001b[0m \u001b[1;33m=\u001b[0m \u001b[0mtype\u001b[0m\u001b[1;33m(\u001b[0m\u001b[0mindividual\u001b[0m\u001b[1;33m[\u001b[0m\u001b[0mi\u001b[0m\u001b[1;33m]\u001b[0m\u001b[1;33m)\u001b[0m\u001b[1;33m(\u001b[0m\u001b[1;32mnot\u001b[0m \u001b[0mindividual\u001b[0m\u001b[1;33m[\u001b[0m\u001b[0mi\u001b[0m\u001b[1;33m]\u001b[0m\u001b[1;33m)\u001b[0m\u001b[1;33m\u001b[0m\u001b[1;33m\u001b[0m\u001b[0m\n\u001b[0m\u001b[0;32m    133\u001b[0m \u001b[1;33m\u001b[0m\u001b[0m\n\u001b[0;32m    134\u001b[0m     \u001b[1;32mreturn\u001b[0m \u001b[0mindividual\u001b[0m\u001b[1;33m,\u001b[0m\u001b[1;33m\u001b[0m\u001b[1;33m\u001b[0m\u001b[0m\n",
      "\u001b[1;31mValueError\u001b[0m: The truth value of an array with more than one element is ambiguous. Use a.any() or a.all()"
     ]
    }
   ],
   "source": [
    "\n",
    "\n",
    "pop = toolbox.population(n=300)\n",
    "#hof = tools.HallOfFame(1)\n",
    "stats = tools.Statistics(lambda ind: ind.fitness.values)\n",
    "stats.register(\"avg\", np.mean)\n",
    "stats.register(\"std\", np.std)\n",
    "stats.register(\"min\", np.min)\n",
    "stats.register(\"max\", np.max)\n",
    "\n",
    "pop, log = algorithms.eaSimple(pop, toolbox, cxpb=0.5, mutpb=0.2, ngen=40, stats=stats, verbose=True)\n",
    "#pop, log = algorithms.eaSimple(pop, toolbox, cxpb=0.5, mutpb=0.2, ngen=40, \n",
    "                               #stats=stats, halloffame=hof, verbose=True)"
   ]
  },
  {
   "cell_type": "code",
   "execution_count": null,
   "metadata": {},
   "outputs": [],
   "source": []
  }
 ],
 "metadata": {
  "kernelspec": {
   "display_name": "Python 3",
   "language": "python",
   "name": "python3"
  },
  "language_info": {
   "codemirror_mode": {
    "name": "ipython",
    "version": 3
   },
   "file_extension": ".py",
   "mimetype": "text/x-python",
   "name": "python",
   "nbconvert_exporter": "python",
   "pygments_lexer": "ipython3",
   "version": "3.7.3"
  }
 },
 "nbformat": 4,
 "nbformat_minor": 2
}
